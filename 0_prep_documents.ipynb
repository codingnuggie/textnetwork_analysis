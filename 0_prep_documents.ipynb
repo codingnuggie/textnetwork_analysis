{
 "cells": [
  {
   "cell_type": "markdown",
   "id": "55e82179",
   "metadata": {},
   "source": [
    "Notebook to prepare documents\n",
    "\n",
    "Following folder structure is needed:\n",
    "\n",
    "docs > country > strategy > doc_name.txt"
   ]
  },
  {
   "cell_type": "code",
   "execution_count": null,
   "id": "eeb8e46d",
   "metadata": {},
   "outputs": [],
   "source": [
    "import glob\n",
    "import os\n",
    "import pandas as pd"
   ]
  },
  {
   "cell_type": "code",
   "execution_count": null,
   "id": "1bffc482",
   "metadata": {},
   "outputs": [],
   "source": [
    "# Location of docs folder (should be in the same directory as this notebook)\n",
    "DOCS_LOCATION = 'docs'"
   ]
  },
  {
   "cell_type": "code",
   "execution_count": null,
   "id": "125566e9",
   "metadata": {},
   "outputs": [],
   "source": [
    "# Create a dictionary that contains information to files\n",
    "\n",
    "# Country\n",
    "countries = ([x for x in os.listdir(DOCS_LOCATION) if os.path.isdir(os.path.join(DOCS_LOCATION, x))])\n",
    "data_docs = dict.fromkeys(countries)\n",
    "\n",
    "# Categories (strategy)\n",
    "for c in countries:\n",
    "    sub_categories = []\n",
    "    for x in os.listdir(f'{DOCS_LOCATION}/{c}'):\n",
    "        # if element is directiory and not a file\n",
    "        if os.path.isdir(os.path.join(f'{DOCS_LOCATION}/{c}', x)):\n",
    "            sub_categories.append(x)\n",
    "    # After all subdirectories are identified - create new dict\n",
    "    data_docs[c] = dict.fromkeys(sub_categories, [])\n",
    "\n",
    "# txt files\n",
    "for c in data_docs.keys():\n",
    "    for t in data_docs[c].keys():\n",
    "        data_docs[c][t] = glob.glob(f'{DOCS_LOCATION}/{c}/{t}/*.txt')\n",
    "\n",
    "data_docs"
   ]
  },
  {
   "cell_type": "code",
   "execution_count": null,
   "id": "4ac4b5be",
   "metadata": {},
   "outputs": [],
   "source": [
    "# function that reads the content of a text file and stores it as a string\n",
    "def read_txt(file_path):\n",
    "    with open(file_path, \"r\") as txt_file:\n",
    "        content = txt_file.read()\n",
    "    \n",
    "    return content"
   ]
  },
  {
   "cell_type": "code",
   "execution_count": null,
   "id": "ccb0c655",
   "metadata": {},
   "outputs": [],
   "source": [
    "# Load text files and store them in a proper data frame\n",
    "entries = []\n",
    "\n",
    "for co, cov in data_docs.items():\n",
    "    for ca, cav in cov.items():\n",
    "        for txt_file_path in cav:\n",
    "            entries.append({\n",
    "                'country': co,\n",
    "                'category': ca,\n",
    "                'file': os.path.basename(txt_file_path),\n",
    "                'text': read_txt(txt_file_path)\n",
    "            })\n",
    "            \n",
    "result_df = pd.DataFrame(entries)"
   ]
  },
  {
   "cell_type": "code",
   "execution_count": null,
   "id": "8323eee0",
   "metadata": {},
   "outputs": [],
   "source": [
    "# Store result as a pickle file\n",
    "result_df.to_pickle('processed_docs/loaded_txt_files.pkl')"
   ]
  }
 ],
 "metadata": {
  "kernelspec": {
   "display_name": "py38",
   "language": "python",
   "name": "py38"
  },
  "language_info": {
   "codemirror_mode": {
    "name": "ipython",
    "version": 3
   },
   "file_extension": ".py",
   "mimetype": "text/x-python",
   "name": "python",
   "nbconvert_exporter": "python",
   "pygments_lexer": "ipython3",
   "version": "3.9.1"
  }
 },
 "nbformat": 4,
 "nbformat_minor": 5
}
